{
 "cells": [
  {
   "cell_type": "code",
   "execution_count": 7,
   "metadata": {},
   "outputs": [
    {
     "data": {
      "text/plain": [
       "<bound method Thread.start of <Timer(Thread-6, initial)>>"
      ]
     },
     "execution_count": 7,
     "metadata": {},
     "output_type": "execute_result"
    }
   ],
   "source": [
    "# Not validated\n",
    "\n",
    "from datetime import datetime, timedelta\n",
    "from threading import Timer\n",
    "\n",
    "x=datetime.today()\n",
    "y = x.replace(day=x.day, hour=10, minute=0, second=0, microsecond=0) + timedelta(days=1)\n",
    "delta_t=y-x\n",
    "\n",
    "secs=delta_t.total_seconds()\n",
    "\n",
    "def hello_world():\n",
    "    print(\"hello world\")\n",
    "    \n",
    "t = Timer(secs, hello_world)\n",
    "t.start"
   ]
  },
  {
   "cell_type": "code",
   "execution_count": null,
   "metadata": {},
   "outputs": [],
   "source": []
  }
 ],
 "metadata": {
  "kernelspec": {
   "display_name": "Python 3",
   "language": "python",
   "name": "python3"
  },
  "language_info": {
   "codemirror_mode": {
    "name": "ipython",
    "version": 3
   },
   "file_extension": ".py",
   "mimetype": "text/x-python",
   "name": "python",
   "nbconvert_exporter": "python",
   "pygments_lexer": "ipython3",
   "version": "3.7.4"
  }
 },
 "nbformat": 4,
 "nbformat_minor": 2
}
